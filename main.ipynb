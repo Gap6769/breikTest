{
 "cells": [
  {
   "cell_type": "code",
   "execution_count": 1,
   "metadata": {},
   "outputs": [],
   "source": [
    "from typing import Iterable, Iterator, Tuple\n",
    "from itertools import permutations, combinations\n",
    "from math import sqrt\n",
    "\n"
   ]
  },
  {
   "cell_type": "code",
   "execution_count": 2,
   "metadata": {},
   "outputs": [],
   "source": [
    "# Pregunta 1 a 4\n",
    "\n",
    "def string_to_list(s: str) -> list[str]:\n",
    "    \"\"\"Function to convert a string to a list of lowercase letters without spaces\"\"\"\n",
    "    return [i.lower() for i in s if i.isalpha() or i.isdigit()]\n",
    "  \n",
    "\n",
    "def without_greater_5(s: str) -> list[str]:\n",
    "    \"\"\"Function how takes the output from string_to_list() and remove the numbers that are greater than 5\"\"\"\n",
    "    list_char = string_to_list(s)\n",
    "    for i in list_char:\n",
    "        if i.isdigit() and int(i) > 5:\n",
    "            list_char.remove(i)\n",
    "    return list_char\n",
    "\n",
    "def without_odd_numbers_and_mult5(s: str) -> list[str]:\n",
    "    \"\"\"Function how takes a list and remove the odd numbers and multiples of five returning a list of every character left\"\"\"\n",
    "    char = s.split()\n",
    "    for i in char:\n",
    "        if i.isdigit() and (int(i) % 5 == 0 or int(i) % 2 == 0):\n",
    "            char.remove(i)\n",
    "    return string_to_list(''.join(char))\n",
    "\n",
    "\n",
    "def without_string(s: str, string_prohibido: str) -> list[str]:\n",
    "    \"\"\"Function that takes a string and a forbidden string and returns a list without the forbidden string\"\"\"\n",
    "    char = ''.join(without_odd_numbers_and_mult5(s))\n",
    "    return string_to_list(char.replace(string_prohibido, ''))\n",
    "\n",
    "\n",
    "\n",
    "def get_permutations(stringProhibido : str) -> set[str]:\n",
    "    \"\"\"Function that takes a string and return the permutations of it\"\"\"\n",
    "    return {''.join(p) for p in permutations(stringProhibido)}\n",
    "\n",
    "\n",
    "def without_string_permutations(s: str, string_prohibido: str) -> list[str]:\n",
    "    \"\"\"Function that takes a string and a forbidden string and returns a list without the permutations of the forbidden string \"\"\"\n",
    "    char = ''.join(without_odd_numbers_and_mult5(s))\n",
    "    for i in get_permutations(string_prohibido):\n",
    "        char = char.replace((i), '')\n",
    "    return string_to_list(char)\n"
   ]
  },
  {
   "cell_type": "code",
   "execution_count": 3,
   "metadata": {},
   "outputs": [],
   "source": [
    "# Pregunta 5\n",
    "\n",
    "Circle = Tuple[float, float, float] \n",
    "\n",
    "def is_intersecting(c1: Circle, c2: Circle) -> bool:\n",
    "    \n",
    "    \"\"\"Function how takes a list of lists with coordenates [x,y,r] and calculate the distance between \n",
    "    two points in a 2D space and calculate the radio of the circles.\n",
    "    Return True if the distance between the points is less than the sum of the radios\"\"\"\n",
    "\n",
    "    distance = sqrt((c1[0] - c2[0]) ** 2 + (c1[1] - c2[1]) ** 2)\n",
    "    radios = c1[2] + c2[2]\n",
    "    return distance <= radios\n",
    "\n",
    "\n",
    "\n",
    "def is_three_intersecting(c1: Circle, c2: Circle, c3: Circle) -> bool:\n",
    "   \n",
    "    \"\"\"Function how uses the output from is_intersecting() to check if the three given circles are conected\"\"\"\n",
    "\n",
    "    return is_intersecting(c1, c2) and is_intersecting(c2, c3) and is_intersecting(c1, c3)\n",
    "\n",
    "\n",
    "def find_three_intersections(circles: Iterable[Circle]) -> Iterator[Tuple[Circle, Circle, Circle]]:\n",
    "\n",
    "    \"\"\"Function to itinerate through the list of lists with coordenates [x,y,r] and find the three interconected circles simultaniosly\"\"\"\n",
    "\n",
    "    for c1, c2, c3 in combinations(circles, 3):\n",
    "        if is_three_intersecting(c1, c2, c3):\n",
    "            yield (c1, c2, c3)\n",
    "\n",
    "def main(coordenadas: list[int]) -> list[int]:\n",
    "    resultados = []\n",
    "    for c1, c2, c3 in find_three_intersections(coordenadas):\n",
    "         resultados.append([c1, c2, c3])\n",
    "    return resultados"
   ]
  },
  {
   "cell_type": "code",
   "execution_count": 4,
   "metadata": {},
   "outputs": [
    {
     "name": "stdout",
     "output_type": "stream",
     "text": [
      "Test question1 passed!\n",
      "Test question2 passed!\n",
      "Test question3 passed!\n",
      "Test question4 passed!\n",
      "Test question5 passed!\n",
      "All tests passed!\n"
     ]
    }
   ],
   "source": [
    "\n",
    "def test_code():\n",
    "    assert without_greater_5('BREIK es bacan') == ['b', 'r', 'e', 'i', 'k', 'e', 's', 'b', 'a', 'c', 'a', 'n']\n",
    "    assert without_greater_5('BREIK tiene 4 clientes') == ['b', 'r', 'e', 'i', 'k', 't', 'i', 'e', 'n', 'e', '4', 'c', 'l', 'i', 'e', 'n', 't', 'e', 's']\n",
    "    assert without_greater_5('BREIK tiene 17 clientes') == ['b', 'r', 'e', 'i', 'k', 't', 'i', 'e', 'n', 'e', '1', 'c', 'l', 'i', 'e', 'n', 't', 'e', 's']\n",
    "    print('Test question1 passed!')\n",
    "    assert without_odd_numbers_and_mult5('BREIK tiene 15 clientes') == ['b', 'r', 'e', 'i', 'k', 't', 'i', 'e', 'n', 'e', 'c', 'l', 'i', 'e', 'n', 't', 'e', 's']\n",
    "    assert without_odd_numbers_and_mult5('BREIK tiene 3 clientes') == ['b', 'r', 'e', 'i', 'k', 't', 'i', 'e', 'n', 'e', '3', 'c', 'l', 'i', 'e', 'n', 't', 'e', 's']\n",
    "    assert without_odd_numbers_and_mult5('BREIK tiene 12 clientes') == ['b', 'r', 'e', 'i', 'k', 't', 'i', 'e', 'n', 'e', 'c', 'l', 'i', 'e', 'n', 't', 'e', 's']\n",
    "    print('Test question2 passed!')\n",
    "    assert without_string('BREIK tiene 3 clientes', 'ie') == ['b', 'r', 'e', 'i', 'k', 't', 'n', 'e', '3', 'c', 'l', 'n', 't', 'e', 's']\n",
    "    assert without_string('BREIK tiene 3 clientes', 'br') == ['e', 'i', 'k', 't', 'i', 'e', 'n', 'e', '3','c', 'l', 'i', 'e', 'n', 't', 'e', 's']\n",
    "    assert without_string('BREIK tiene 12 clientes', 'e') == ['b', 'r', 'i', 'k', 't', 'i', 'n', 'c', 'l', 'i', 'n', 't', 's']\n",
    "    print('Test question3 passed!')\n",
    "    assert without_string_permutations('el perro esta durmiendo 13', 'muriendo') == ['e', 'l', 'p', 'e', 'r', 'r', 'o', 'e', 's', 't', 'a', 'd','1', '3']\n",
    "    assert without_string_permutations('BREIK tiene 3 clientes', 'ie') == ['b', 'r', 'k', 't', 'n', 'e', '3', 'c', 'l', 'n', 't', 'e', 's']\n",
    "    print('Test question4 passed!')\n",
    "    assert main([[7,3,2],[5,6,2],[1,1,5],[8,7,3]]) == [[[7, 3, 2], [5, 6, 2], [1, 1, 5]], [[7, 3, 2], [5, 6, 2], [8, 7, 3]]]\n",
    "    print('Test question5 passed!')\n",
    "    print('All tests passed!')\n",
    "test_code()"
   ]
  },
  {
   "cell_type": "markdown",
   "metadata": {},
   "source": [
    "To answer question 1 you should run without_greater_5(list[str]) <br>\n",
    "To answer question 2 you should run without_odd_numbers_and_mult5(list[str])<br>\n",
    "To answer question 3 you should run without_string(string,string_prohibida)<br>\n",
    "To answer question 4 you should run without_string_permutations(string,string_prohibida) <br>\n",
    "To anser question 5 you should run main(list[list[int]])"
   ]
  },
  {
   "cell_type": "code",
   "execution_count": 5,
   "metadata": {},
   "outputs": [
    {
     "data": {
      "text/plain": [
       "[[[7, 3, 2], [5, 6, 2], [1, 1, 5]],\n",
       " [[7, 3, 2], [5, 6, 2], [8, 7, 3]],\n",
       " [[7, 3, 2], [5, 6, 2], [4, 5, 6]],\n",
       " [[7, 3, 2], [1, 1, 5], [4, 5, 6]],\n",
       " [[7, 3, 2], [8, 7, 3], [4, 5, 6]],\n",
       " [[5, 6, 2], [1, 1, 5], [4, 5, 6]],\n",
       " [[5, 6, 2], [8, 7, 3], [4, 5, 6]]]"
      ]
     },
     "execution_count": 5,
     "metadata": {},
     "output_type": "execute_result"
    }
   ],
   "source": [
    "main([[7,3,2],[5,6,2],[1,1,5],[8,7,3],[4,5,6]])"
   ]
  }
 ],
 "metadata": {
  "interpreter": {
   "hash": "aee8b7b246df8f9039afb4144a1f6fd8d2ca17a180786b69acc140d282b71a49"
  },
  "kernelspec": {
   "display_name": "Python 3.9.6 64-bit",
   "language": "python",
   "name": "python3"
  },
  "language_info": {
   "codemirror_mode": {
    "name": "ipython",
    "version": 3
   },
   "file_extension": ".py",
   "mimetype": "text/x-python",
   "name": "python",
   "nbconvert_exporter": "python",
   "pygments_lexer": "ipython3",
   "version": "3.9.6"
  },
  "orig_nbformat": 4
 },
 "nbformat": 4,
 "nbformat_minor": 2
}
